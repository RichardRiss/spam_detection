{
 "cells": [
  {
   "cell_type": "code",
   "execution_count": 1,
   "id": "dd0817b4",
   "metadata": {},
   "outputs": [],
   "source": [
    "import pandas as pd\n",
    "from sklearn.feature_extraction.text import CountVectorizer\n",
    "from sklearn.model_selection import train_test_split\n",
    "from sklearn.neighbors import KNeighborsClassifier\n",
    "from sklearn.metrics import accuracy_score"
   ]
  },
  {
   "cell_type": "code",
   "execution_count": 2,
   "id": "ea6466fb",
   "metadata": {},
   "outputs": [],
   "source": [
    "data = pd.read_csv(\"Spam_Ham_data.csv\")"
   ]
  },
  {
   "cell_type": "code",
   "execution_count": 3,
   "id": "246b5e29",
   "metadata": {},
   "outputs": [
    {
     "data": {
      "text/html": [
       "<div>\n",
       "<style scoped>\n",
       "    .dataframe tbody tr th:only-of-type {\n",
       "        vertical-align: middle;\n",
       "    }\n",
       "\n",
       "    .dataframe tbody tr th {\n",
       "        vertical-align: top;\n",
       "    }\n",
       "\n",
       "    .dataframe thead th {\n",
       "        text-align: right;\n",
       "    }\n",
       "</style>\n",
       "<table border=\"1\" class=\"dataframe\">\n",
       "  <thead>\n",
       "    <tr style=\"text-align: right;\">\n",
       "      <th></th>\n",
       "      <th>email</th>\n",
       "      <th>label</th>\n",
       "      <th>Subject</th>\n",
       "      <th>content</th>\n",
       "    </tr>\n",
       "  </thead>\n",
       "  <tbody>\n",
       "    <tr>\n",
       "      <th>0</th>\n",
       "      <td>b'From exmh-workers-admin@redhat.com  Thu Aug ...</td>\n",
       "      <td>0.0</td>\n",
       "      <td>new sequenc window</td>\n",
       "      <td>date wed number aug number number number chri ...</td>\n",
       "    </tr>\n",
       "    <tr>\n",
       "      <th>1</th>\n",
       "      <td>b'Return-Path: &lt;Online#3.19578.34-UgGTgZFN19NA...</td>\n",
       "      <td>0.0</td>\n",
       "      <td>cnet newscom cabl compani crack wifi</td>\n",
       "      <td>htmlhead titlec compani crack nametopa logo ad...</td>\n",
       "    </tr>\n",
       "    <tr>\n",
       "      <th>2</th>\n",
       "      <td>b'Return-Path: &lt;Online#3.19584.83-p1SYlJ1blFvQ...</td>\n",
       "      <td>0.0</td>\n",
       "      <td>save extra number ipaq number pda cnet shopper</td>\n",
       "      <td>htmlhead newslett hreftopa header tabl widthnu...</td>\n",
       "    </tr>\n",
       "    <tr>\n",
       "      <th>3</th>\n",
       "      <td>b'From Steve_Burt@cursor-system.com  Thu Aug 2...</td>\n",
       "      <td>0.0</td>\n",
       "      <td>zzzzteana alexand</td>\n",
       "      <td>martin greek sculptor behind plan judg limesto...</td>\n",
       "    </tr>\n",
       "    <tr>\n",
       "      <th>4</th>\n",
       "      <td>b'Return-Path: &lt;Online#3.19586.b5-9w0blztbvHPd...</td>\n",
       "      <td>0.0</td>\n",
       "      <td>week deck texedit plu boom</td>\n",
       "      <td>cnet download dispatchmac editionjuli number n...</td>\n",
       "    </tr>\n",
       "    <tr>\n",
       "      <th>...</th>\n",
       "      <td>...</td>\n",
       "      <td>...</td>\n",
       "      <td>...</td>\n",
       "      <td>...</td>\n",
       "    </tr>\n",
       "    <tr>\n",
       "      <th>3058</th>\n",
       "      <td>b'From 2002biz2biz2513@Flashmail.com  Mon Oct ...</td>\n",
       "      <td>1.0</td>\n",
       "      <td>fwddirect market work number</td>\n",
       "      <td>stumbl greatest way market centuri undoubtedli...</td>\n",
       "    </tr>\n",
       "    <tr>\n",
       "      <th>3059</th>\n",
       "      <td>b'From biz2biz2446@Flashmail.com  Mon Oct  7 2...</td>\n",
       "      <td>1.0</td>\n",
       "      <td>see compani sale sky rocket number</td>\n",
       "      <td>stumbl greatest way market centuri undoubtedli...</td>\n",
       "    </tr>\n",
       "    <tr>\n",
       "      <th>3060</th>\n",
       "      <td>b'From bounce2@u-answer.com  Tue Oct  8 11:02:...</td>\n",
       "      <td>1.0</td>\n",
       "      <td>number hour watch emmerci joke</td>\n",
       "      <td>frontpag numbermeta nameprogid vlinknumb align...</td>\n",
       "    </tr>\n",
       "    <tr>\n",
       "      <th>3061</th>\n",
       "      <td>b'From beautyinfufuxxxmeb13mxy@aol.com  Tue Oc...</td>\n",
       "      <td>1.0</td>\n",
       "      <td>make fortun ebay number</td>\n",
       "      <td>htmlbodi tr td p number rate work home busi bf...</td>\n",
       "    </tr>\n",
       "    <tr>\n",
       "      <th>3062</th>\n",
       "      <td>b'From evtwqmigru@datcon.co.uk  Tue Oct  8 11:...</td>\n",
       "      <td>1.0</td>\n",
       "      <td>faeri</td>\n",
       "      <td>uncommon exot pleasur marvel sweet treat pleas...</td>\n",
       "    </tr>\n",
       "  </tbody>\n",
       "</table>\n",
       "<p>3063 rows × 4 columns</p>\n",
       "</div>"
      ],
      "text/plain": [
       "                                                  email  label  \\\n",
       "0     b'From exmh-workers-admin@redhat.com  Thu Aug ...    0.0   \n",
       "1     b'Return-Path: <Online#3.19578.34-UgGTgZFN19NA...    0.0   \n",
       "2     b'Return-Path: <Online#3.19584.83-p1SYlJ1blFvQ...    0.0   \n",
       "3     b'From Steve_Burt@cursor-system.com  Thu Aug 2...    0.0   \n",
       "4     b'Return-Path: <Online#3.19586.b5-9w0blztbvHPd...    0.0   \n",
       "...                                                 ...    ...   \n",
       "3058  b'From 2002biz2biz2513@Flashmail.com  Mon Oct ...    1.0   \n",
       "3059  b'From biz2biz2446@Flashmail.com  Mon Oct  7 2...    1.0   \n",
       "3060  b'From bounce2@u-answer.com  Tue Oct  8 11:02:...    1.0   \n",
       "3061  b'From beautyinfufuxxxmeb13mxy@aol.com  Tue Oc...    1.0   \n",
       "3062  b'From evtwqmigru@datcon.co.uk  Tue Oct  8 11:...    1.0   \n",
       "\n",
       "                                             Subject  \\\n",
       "0                                 new sequenc window   \n",
       "1               cnet newscom cabl compani crack wifi   \n",
       "2     save extra number ipaq number pda cnet shopper   \n",
       "3                                  zzzzteana alexand   \n",
       "4                         week deck texedit plu boom   \n",
       "...                                              ...   \n",
       "3058                    fwddirect market work number   \n",
       "3059              see compani sale sky rocket number   \n",
       "3060                  number hour watch emmerci joke   \n",
       "3061                         make fortun ebay number   \n",
       "3062                                           faeri   \n",
       "\n",
       "                                                content  \n",
       "0     date wed number aug number number number chri ...  \n",
       "1     htmlhead titlec compani crack nametopa logo ad...  \n",
       "2     htmlhead newslett hreftopa header tabl widthnu...  \n",
       "3     martin greek sculptor behind plan judg limesto...  \n",
       "4     cnet download dispatchmac editionjuli number n...  \n",
       "...                                                 ...  \n",
       "3058  stumbl greatest way market centuri undoubtedli...  \n",
       "3059  stumbl greatest way market centuri undoubtedli...  \n",
       "3060  frontpag numbermeta nameprogid vlinknumb align...  \n",
       "3061  htmlbodi tr td p number rate work home busi bf...  \n",
       "3062  uncommon exot pleasur marvel sweet treat pleas...  \n",
       "\n",
       "[3063 rows x 4 columns]"
      ]
     },
     "execution_count": 3,
     "metadata": {},
     "output_type": "execute_result"
    }
   ],
   "source": [
    "data"
   ]
  },
  {
   "cell_type": "code",
   "execution_count": 4,
   "id": "2fd933c7",
   "metadata": {},
   "outputs": [],
   "source": [
    "data = data.fillna('')"
   ]
  },
  {
   "cell_type": "code",
   "execution_count": 5,
   "id": "ee607fab",
   "metadata": {},
   "outputs": [],
   "source": [
    "X = data['Subject'] + ' ' + data['content']\n",
    "y = data['label']"
   ]
  },
  {
   "cell_type": "code",
   "execution_count": 6,
   "id": "5e1c4b32-0ec2-4e57-80ac-559bbd1124cd",
   "metadata": {},
   "outputs": [],
   "source": [
    "vectorizer = CountVectorizer()\n",
    "X = vectorizer.fit_transform(X)"
   ]
  },
  {
   "cell_type": "code",
   "execution_count": 7,
   "id": "8be9b5e4",
   "metadata": {},
   "outputs": [],
   "source": [
    "X_train, X_test, y_train, y_test = train_test_split(X, y, test_size=0.2, random_state=42)\n"
   ]
  },
  {
   "cell_type": "code",
   "execution_count": 8,
   "id": "9f666c4d",
   "metadata": {},
   "outputs": [],
   "source": [
    "knn = KNeighborsClassifier(n_neighbors=5)\n"
   ]
  },
  {
   "cell_type": "code",
   "execution_count": 9,
   "id": "a0102e89",
   "metadata": {},
   "outputs": [],
   "source": [
    "test = knn.fit(X_train, y_train)"
   ]
  },
  {
   "cell_type": "code",
   "execution_count": 10,
   "id": "e83877d0",
   "metadata": {},
   "outputs": [],
   "source": [
    "y_pred = test.predict(X_test)\n"
   ]
  },
  {
   "cell_type": "code",
   "execution_count": 11,
   "id": "68499995",
   "metadata": {},
   "outputs": [
    {
     "name": "stdout",
     "output_type": "stream",
     "text": [
      "Accuracy: 0.9314845024469821\n"
     ]
    }
   ],
   "source": [
    "accuracy = accuracy_score(y_test, y_pred)\n",
    "print(\"Accuracy:\", accuracy)"
   ]
  },
  {
   "cell_type": "code",
   "execution_count": 12,
   "id": "0f083582",
   "metadata": {},
   "outputs": [
    {
     "name": "stdout",
     "output_type": "stream",
     "text": [
      "Accuracy: 0.9314845024469821\n"
     ]
    }
   ],
   "source": [
    "print(\"Accuracy:\", accuracy)\n"
   ]
  },
  {
   "cell_type": "code",
   "execution_count": null,
   "id": "191d65f9-6ebe-4a21-8e7d-61278029b739",
   "metadata": {},
   "outputs": [],
   "source": []
  }
 ],
 "metadata": {
  "kernelspec": {
   "display_name": "Python 3 (ipykernel)",
   "language": "python",
   "name": "python3"
  },
  "language_info": {
   "codemirror_mode": {
    "name": "ipython",
    "version": 3
   },
   "file_extension": ".py",
   "mimetype": "text/x-python",
   "name": "python",
   "nbconvert_exporter": "python",
   "pygments_lexer": "ipython3",
   "version": "3.10.2"
  }
 },
 "nbformat": 4,
 "nbformat_minor": 5
}
