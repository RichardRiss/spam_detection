{
 "cells": [
  {
   "cell_type": "code",
   "execution_count": 1,
   "metadata": {
    "id": "0EDrhP3-LY4N"
   },
   "outputs": [],
   "source": [
    "import pandas as pd\n",
    "from sklearn.model_selection import train_test_split\n",
    "from sklearn.feature_extraction.text import TfidfVectorizer\n",
    "from sklearn.neighbors import KNeighborsClassifier\n",
    "from sklearn.ensemble import RandomForestClassifier\n",
    "from sklearn.metrics import accuracy_score, precision_score, recall_score, f1_score\n",
    "import matplotlib.pyplot as plt\n",
    "import seaborn as sns\n",
    "from wordcloud import WordCloud\n",
    "import os\n",
    "import csv\n",
    "import glob"
   ]
  },
  {
   "cell_type": "code",
   "execution_count": 2,
   "metadata": {
    "colab": {
     "base_uri": "https://localhost:8080/"
    },
    "id": "1xWxQb8XQMUm",
    "outputId": "6bfa63d2-4fc6-4abc-cdc5-78f0cd8aba4c"
   },
   "outputs": [
    {
     "data": {
      "text/plain": [
       "['Spam/1998.csv',\n",
       " 'Spam/1999.csv',\n",
       " 'Spam/2000.csv',\n",
       " 'Spam/2001.csv',\n",
       " 'Spam/2002.csv',\n",
       " 'Spam/2003.csv',\n",
       " 'Spam/2008.csv']"
      ]
     },
     "execution_count": 2,
     "metadata": {},
     "output_type": "execute_result"
    }
   ],
   "source": [
    "folder_path = 'Spam/'\n",
    "csv_files = []\n",
    "for file in os.listdir(folder_path):\n",
    "    if file.endswith('.csv'):\n",
    "        csv_files.append(os.path.join(folder_path, file))\n",
    "\n",
    "csv_files"
   ]
  },
  {
   "cell_type": "code",
   "execution_count": 3,
   "metadata": {
    "colab": {
     "base_uri": "https://localhost:8080/"
    },
    "id": "6RsZKL6-QMgk",
    "outputId": "f44d84a0-edef-4b29-9bce-6f4becf1c259",
    "scrolled": true
   },
   "outputs": [],
   "source": [
    "spam_data = []\n",
    "encodings = [\"utf-8\",'unicode_escape', \"utf-8-sig\", \"latin1\", \"cp1252\",\"iso-8859-1\"]\n",
    "encoding_dict = {}\n",
    "ham = pd.read_csv('./enron.csv')\n",
    "for f in csv_files:\n",
    "  for encoding in encodings:\n",
    "    try:\n",
    "      data = pd.read_csv(f,encoding=encoding, on_bad_lines='skip')\n",
    "      spam_data.append(data)\n",
    "      encoding_dict[f]=encoding\n",
    "      break\n",
    "    except Exception as e:  \n",
    "        pass\n",
    "    \n",
    "spam = pd.concat(spam_data)\n",
    "combined_df = pd.concat([ham[['email','label']], spam[['email','label']]], axis=0, ignore_index=True)\n"
   ]
  },
  {
   "cell_type": "code",
   "execution_count": 4,
   "metadata": {
    "id": "AJ-cF6uoJ_NS"
   },
   "outputs": [],
   "source": [
    "#lösch alles wo label fehlt\n",
    "combined_df.dropna(subset=['label'], inplace=True)\n"
   ]
  },
  {
   "cell_type": "code",
   "execution_count": 5,
   "metadata": {
    "colab": {
     "base_uri": "https://localhost:8080/"
    },
    "id": "80u0Zq90Mv7P",
    "outputId": "2bbbb6b6-9016-4f0c-95e8-d2b748ded537"
   },
   "outputs": [
    {
     "name": "stdout",
     "output_type": "stream",
     "text": [
      "                                               email  label\n",
      "0                         b'Here is our forecast   '    1.0\n",
      "1  b'Traveling to have a business meeting takes t...    1.0\n",
      "2                  b'test successful.  way to go!!!'    1.0\n",
      "3  b'Randy,   Can you send me a schedule of the s...    1.0\n",
      "4             b'Let's shoot for Tuesday at 11:45.  '    1.0\n"
     ]
    }
   ],
   "source": [
    "# Here you can View the first few rows of the combined dataframe\n",
    "print(combined_df.head())"
   ]
  },
  {
   "cell_type": "code",
   "execution_count": 6,
   "metadata": {
    "colab": {
     "base_uri": "https://localhost:8080/"
    },
    "id": "RTro2oKwMxlG",
    "outputId": "9e9a90f6-8e00-4cbb-a8f1-90287c3a190d"
   },
   "outputs": [
    {
     "name": "stdout",
     "output_type": "stream",
     "text": [
      "               label\n",
      "count  764057.000000\n",
      "mean        0.677176\n",
      "std         0.467556\n",
      "min         0.000000\n",
      "25%         0.000000\n",
      "50%         1.000000\n",
      "75%         1.000000\n",
      "max         1.000000\n"
     ]
    }
   ],
   "source": [
    "# count \n",
    "print(combined_df.describe())"
   ]
  },
  {
   "cell_type": "code",
   "execution_count": 7,
   "metadata": {
    "colab": {
     "base_uri": "https://localhost:8080/"
    },
    "id": "ktWGlgfEMwD_",
    "outputId": "c599584c-d4b1-4237-ed18-5493195a7c40"
   },
   "outputs": [
    {
     "name": "stdout",
     "output_type": "stream",
     "text": [
      "1.0    517401\n",
      "0.0    246656\n",
      "Name: label, dtype: int64\n"
     ]
    }
   ],
   "source": [
    "# count per label\n",
    "label_counts = combined_df['label'].value_counts()\n",
    "print(label_counts)"
   ]
  },
  {
   "cell_type": "code",
   "execution_count": 8,
   "metadata": {
    "id": "_nFBJITYIfKM"
   },
   "outputs": [],
   "source": [
    "# initializing X and y\n",
    "X = combined_df['email']  # Features\n",
    "y = combined_df['label']  # Labels"
   ]
  },
  {
   "cell_type": "code",
   "execution_count": 12,
   "metadata": {
    "id": "DeIKHXjzoHI7"
   },
   "outputs": [],
   "source": [
    "# remove inconsistent rows from X and y maybe for better accuracy?\n",
    "inconsistent_indices = set(X.index) - set(y.index)\n",
    "X = X.drop(inconsistent_indices)\n",
    "y = y.drop(inconsistent_indices)"
   ]
  },
  {
   "cell_type": "code",
   "execution_count": 13,
   "metadata": {
    "id": "l5mfoP4GIfMr"
   },
   "outputs": [],
   "source": [
    "# Here we're splitting data into Train-Test 80% and 20%\n",
    "# stratify Aufteilung in Trainings- und Testdaten proportional zu den Originaldaten bleibt.\n",
    "X_train, X_test, y_train, y_test = train_test_split(X, y, test_size=0.2, random_state=42, stratify=y)"
   ]
  },
  {
   "cell_type": "code",
   "execution_count": 14,
   "metadata": {
    "colab": {
     "base_uri": "https://localhost:8080/",
     "height": 75
    },
    "id": "Sy1pBs8WIfO8",
    "outputId": "da646096-4cdc-4323-eb2e-69b21b1948b6"
   },
   "outputs": [
    {
     "data": {
      "text/html": [
       "<style>#sk-container-id-1 {color: black;background-color: white;}#sk-container-id-1 pre{padding: 0;}#sk-container-id-1 div.sk-toggleable {background-color: white;}#sk-container-id-1 label.sk-toggleable__label {cursor: pointer;display: block;width: 100%;margin-bottom: 0;padding: 0.3em;box-sizing: border-box;text-align: center;}#sk-container-id-1 label.sk-toggleable__label-arrow:before {content: \"▸\";float: left;margin-right: 0.25em;color: #696969;}#sk-container-id-1 label.sk-toggleable__label-arrow:hover:before {color: black;}#sk-container-id-1 div.sk-estimator:hover label.sk-toggleable__label-arrow:before {color: black;}#sk-container-id-1 div.sk-toggleable__content {max-height: 0;max-width: 0;overflow: hidden;text-align: left;background-color: #f0f8ff;}#sk-container-id-1 div.sk-toggleable__content pre {margin: 0.2em;color: black;border-radius: 0.25em;background-color: #f0f8ff;}#sk-container-id-1 input.sk-toggleable__control:checked~div.sk-toggleable__content {max-height: 200px;max-width: 100%;overflow: auto;}#sk-container-id-1 input.sk-toggleable__control:checked~label.sk-toggleable__label-arrow:before {content: \"▾\";}#sk-container-id-1 div.sk-estimator input.sk-toggleable__control:checked~label.sk-toggleable__label {background-color: #d4ebff;}#sk-container-id-1 div.sk-label input.sk-toggleable__control:checked~label.sk-toggleable__label {background-color: #d4ebff;}#sk-container-id-1 input.sk-hidden--visually {border: 0;clip: rect(1px 1px 1px 1px);clip: rect(1px, 1px, 1px, 1px);height: 1px;margin: -1px;overflow: hidden;padding: 0;position: absolute;width: 1px;}#sk-container-id-1 div.sk-estimator {font-family: monospace;background-color: #f0f8ff;border: 1px dotted black;border-radius: 0.25em;box-sizing: border-box;margin-bottom: 0.5em;}#sk-container-id-1 div.sk-estimator:hover {background-color: #d4ebff;}#sk-container-id-1 div.sk-parallel-item::after {content: \"\";width: 100%;border-bottom: 1px solid gray;flex-grow: 1;}#sk-container-id-1 div.sk-label:hover label.sk-toggleable__label {background-color: #d4ebff;}#sk-container-id-1 div.sk-serial::before {content: \"\";position: absolute;border-left: 1px solid gray;box-sizing: border-box;top: 0;bottom: 0;left: 50%;z-index: 0;}#sk-container-id-1 div.sk-serial {display: flex;flex-direction: column;align-items: center;background-color: white;padding-right: 0.2em;padding-left: 0.2em;position: relative;}#sk-container-id-1 div.sk-item {position: relative;z-index: 1;}#sk-container-id-1 div.sk-parallel {display: flex;align-items: stretch;justify-content: center;background-color: white;position: relative;}#sk-container-id-1 div.sk-item::before, #sk-container-id-1 div.sk-parallel-item::before {content: \"\";position: absolute;border-left: 1px solid gray;box-sizing: border-box;top: 0;bottom: 0;left: 50%;z-index: -1;}#sk-container-id-1 div.sk-parallel-item {display: flex;flex-direction: column;z-index: 1;position: relative;background-color: white;}#sk-container-id-1 div.sk-parallel-item:first-child::after {align-self: flex-end;width: 50%;}#sk-container-id-1 div.sk-parallel-item:last-child::after {align-self: flex-start;width: 50%;}#sk-container-id-1 div.sk-parallel-item:only-child::after {width: 0;}#sk-container-id-1 div.sk-dashed-wrapped {border: 1px dashed gray;margin: 0 0.4em 0.5em 0.4em;box-sizing: border-box;padding-bottom: 0.4em;background-color: white;}#sk-container-id-1 div.sk-label label {font-family: monospace;font-weight: bold;display: inline-block;line-height: 1.2em;}#sk-container-id-1 div.sk-label-container {text-align: center;}#sk-container-id-1 div.sk-container {/* jupyter's `normalize.less` sets `[hidden] { display: none; }` but bootstrap.min.css set `[hidden] { display: none !important; }` so we also need the `!important` here to be able to override the default hidden behavior on the sphinx rendered scikit-learn.org. See: https://github.com/scikit-learn/scikit-learn/issues/21755 */display: inline-block !important;position: relative;}#sk-container-id-1 div.sk-text-repr-fallback {display: none;}</style><div id=\"sk-container-id-1\" class=\"sk-top-container\"><div class=\"sk-text-repr-fallback\"><pre>RandomForestClassifier(max_depth=10)</pre><b>In a Jupyter environment, please rerun this cell to show the HTML representation or trust the notebook. <br />On GitHub, the HTML representation is unable to render, please try loading this page with nbviewer.org.</b></div><div class=\"sk-container\" hidden><div class=\"sk-item\"><div class=\"sk-estimator sk-toggleable\"><input class=\"sk-toggleable__control sk-hidden--visually\" id=\"sk-estimator-id-1\" type=\"checkbox\" checked><label for=\"sk-estimator-id-1\" class=\"sk-toggleable__label sk-toggleable__label-arrow\">RandomForestClassifier</label><div class=\"sk-toggleable__content\"><pre>RandomForestClassifier(max_depth=10)</pre></div></div></div></div></div>"
      ],
      "text/plain": [
       "RandomForestClassifier(max_depth=10)"
      ]
     },
     "execution_count": 14,
     "metadata": {},
     "output_type": "execute_result"
    }
   ],
   "source": [
    "# Model Training\n",
    "vectorizer = TfidfVectorizer()  # Initialize the TF-IDF vectorizer\n",
    "\n",
    "X_train_tfidf = vectorizer.fit_transform(X_train)  # Vectorize the training data\n",
    "\n",
    "# 100 Entscheidungsbäume und tiefe von 10\n",
    "# alternativ können wir mit gridsearch die besten hyperparameter bestimmen\n",
    "rf_model = RandomForestClassifier(n_estimators=100, max_depth=10)\n",
    "\n",
    "# Train the Random Forest model\n",
    "rf_model.fit(X_train_tfidf, y_train)\n"
   ]
  },
  {
   "cell_type": "code",
   "execution_count": 15,
   "metadata": {
    "colab": {
     "base_uri": "https://localhost:8080/",
     "height": 75
    },
    "id": "8JJRwrozIfRa",
    "outputId": "e932c358-4b04-4476-8a8e-5f799f8a2492"
   },
   "outputs": [
    {
     "data": {
      "text/html": [
       "<style>#sk-container-id-2 {color: black;background-color: white;}#sk-container-id-2 pre{padding: 0;}#sk-container-id-2 div.sk-toggleable {background-color: white;}#sk-container-id-2 label.sk-toggleable__label {cursor: pointer;display: block;width: 100%;margin-bottom: 0;padding: 0.3em;box-sizing: border-box;text-align: center;}#sk-container-id-2 label.sk-toggleable__label-arrow:before {content: \"▸\";float: left;margin-right: 0.25em;color: #696969;}#sk-container-id-2 label.sk-toggleable__label-arrow:hover:before {color: black;}#sk-container-id-2 div.sk-estimator:hover label.sk-toggleable__label-arrow:before {color: black;}#sk-container-id-2 div.sk-toggleable__content {max-height: 0;max-width: 0;overflow: hidden;text-align: left;background-color: #f0f8ff;}#sk-container-id-2 div.sk-toggleable__content pre {margin: 0.2em;color: black;border-radius: 0.25em;background-color: #f0f8ff;}#sk-container-id-2 input.sk-toggleable__control:checked~div.sk-toggleable__content {max-height: 200px;max-width: 100%;overflow: auto;}#sk-container-id-2 input.sk-toggleable__control:checked~label.sk-toggleable__label-arrow:before {content: \"▾\";}#sk-container-id-2 div.sk-estimator input.sk-toggleable__control:checked~label.sk-toggleable__label {background-color: #d4ebff;}#sk-container-id-2 div.sk-label input.sk-toggleable__control:checked~label.sk-toggleable__label {background-color: #d4ebff;}#sk-container-id-2 input.sk-hidden--visually {border: 0;clip: rect(1px 1px 1px 1px);clip: rect(1px, 1px, 1px, 1px);height: 1px;margin: -1px;overflow: hidden;padding: 0;position: absolute;width: 1px;}#sk-container-id-2 div.sk-estimator {font-family: monospace;background-color: #f0f8ff;border: 1px dotted black;border-radius: 0.25em;box-sizing: border-box;margin-bottom: 0.5em;}#sk-container-id-2 div.sk-estimator:hover {background-color: #d4ebff;}#sk-container-id-2 div.sk-parallel-item::after {content: \"\";width: 100%;border-bottom: 1px solid gray;flex-grow: 1;}#sk-container-id-2 div.sk-label:hover label.sk-toggleable__label {background-color: #d4ebff;}#sk-container-id-2 div.sk-serial::before {content: \"\";position: absolute;border-left: 1px solid gray;box-sizing: border-box;top: 0;bottom: 0;left: 50%;z-index: 0;}#sk-container-id-2 div.sk-serial {display: flex;flex-direction: column;align-items: center;background-color: white;padding-right: 0.2em;padding-left: 0.2em;position: relative;}#sk-container-id-2 div.sk-item {position: relative;z-index: 1;}#sk-container-id-2 div.sk-parallel {display: flex;align-items: stretch;justify-content: center;background-color: white;position: relative;}#sk-container-id-2 div.sk-item::before, #sk-container-id-2 div.sk-parallel-item::before {content: \"\";position: absolute;border-left: 1px solid gray;box-sizing: border-box;top: 0;bottom: 0;left: 50%;z-index: -1;}#sk-container-id-2 div.sk-parallel-item {display: flex;flex-direction: column;z-index: 1;position: relative;background-color: white;}#sk-container-id-2 div.sk-parallel-item:first-child::after {align-self: flex-end;width: 50%;}#sk-container-id-2 div.sk-parallel-item:last-child::after {align-self: flex-start;width: 50%;}#sk-container-id-2 div.sk-parallel-item:only-child::after {width: 0;}#sk-container-id-2 div.sk-dashed-wrapped {border: 1px dashed gray;margin: 0 0.4em 0.5em 0.4em;box-sizing: border-box;padding-bottom: 0.4em;background-color: white;}#sk-container-id-2 div.sk-label label {font-family: monospace;font-weight: bold;display: inline-block;line-height: 1.2em;}#sk-container-id-2 div.sk-label-container {text-align: center;}#sk-container-id-2 div.sk-container {/* jupyter's `normalize.less` sets `[hidden] { display: none; }` but bootstrap.min.css set `[hidden] { display: none !important; }` so we also need the `!important` here to be able to override the default hidden behavior on the sphinx rendered scikit-learn.org. See: https://github.com/scikit-learn/scikit-learn/issues/21755 */display: inline-block !important;position: relative;}#sk-container-id-2 div.sk-text-repr-fallback {display: none;}</style><div id=\"sk-container-id-2\" class=\"sk-top-container\"><div class=\"sk-text-repr-fallback\"><pre>KNeighborsClassifier()</pre><b>In a Jupyter environment, please rerun this cell to show the HTML representation or trust the notebook. <br />On GitHub, the HTML representation is unable to render, please try loading this page with nbviewer.org.</b></div><div class=\"sk-container\" hidden><div class=\"sk-item\"><div class=\"sk-estimator sk-toggleable\"><input class=\"sk-toggleable__control sk-hidden--visually\" id=\"sk-estimator-id-2\" type=\"checkbox\" checked><label for=\"sk-estimator-id-2\" class=\"sk-toggleable__label sk-toggleable__label-arrow\">KNeighborsClassifier</label><div class=\"sk-toggleable__content\"><pre>KNeighborsClassifier()</pre></div></div></div></div></div>"
      ],
      "text/plain": [
       "KNeighborsClassifier()"
      ]
     },
     "execution_count": 15,
     "metadata": {},
     "output_type": "execute_result"
    }
   ],
   "source": [
    "# Initialize KNN model\n",
    "knn_model = KNeighborsClassifier(n_neighbors=5)\n",
    "\n",
    "# Train the KNN model\n",
    "knn_model.fit(X_train_tfidf, y_train)"
   ]
  },
  {
   "cell_type": "code",
   "execution_count": 17,
   "metadata": {
    "id": "ugJKsk-lIzpo"
   },
   "outputs": [],
   "source": [
    "# Here is the Model Evaluation by Vectorize the testing data\n",
    "X_test_tfidf = vectorizer.transform(X_test)"
   ]
  },
  {
   "cell_type": "code",
   "execution_count": null,
   "metadata": {
    "id": "aflXN7kQJxnf"
   },
   "outputs": [],
   "source": [
    "knn_predictions = knn_model.predict(X_test_tfidf)\n",
    "rf_predictions = rf_model.predict(X_test_tfidf)\n",
    "\n",
    "knn_accuracy = accuracy_score(y_test, knn_predictions)\n",
    "rf_accuracy = accuracy_score(y_test, rf_predictions)\n",
    "\n",
    "knn_precision = precision_score(y_test, knn_predictions)\n",
    "rf_precision = precision_score(y_test, rf_predictions)\n",
    "\n",
    "knn_recall = recall_score(y_test, knn_predictions)\n",
    "rf_recall = recall_score(y_test, rf_predictions)\n",
    "\n",
    "knn_f1 = f1_score(y_test, knn_predictions)\n",
    "rf_f1 = f1_score(y_test, rf_predictions)\n"
   ]
  },
  {
   "cell_type": "code",
   "execution_count": null,
   "metadata": {
    "colab": {
     "base_uri": "https://localhost:8080/"
    },
    "id": "ve5j8lr0IzuT",
    "outputId": "27ff9be0-17fd-4e2a-d50c-0b6813895a1c"
   },
   "outputs": [],
   "source": [
    "print(\"KNN Accuracy:\", knn_accuracy)\n",
    "print(\"Random Forest Accuracy:\", rf_accuracy)\n",
    "print(\"KNN Precision:\", knn_precision)\n",
    "print(\"Random Forest Precision:\", rf_precision)\n",
    "print(\"KNN Recall:\", knn_recall)\n",
    "print(\"Random Forest Recall:\", rf_recall)\n",
    "print(\"KNN F1-score:\", knn_f1)\n",
    "print(\"Random Forest F1-score:\", rf_f1)"
   ]
  },
  {
   "cell_type": "code",
   "execution_count": null,
   "metadata": {
    "colab": {
     "base_uri": "https://localhost:8080/"
    },
    "id": "f3z2q3vn860l",
    "outputId": "5f00c840-c344-4046-f2ba-7d5ec4ed54ee"
   },
   "outputs": [],
   "source": [
    "# Here we're generating the word cloud visualization specifically for spam messages.\n",
    "# The word cloud provides a visual representation of the most frequently occurring words in the spam messages, allowing you to gain insights into the content and patterns of these messages.\n",
    "spam_messages = combined_df.loc[combined_df['label'] == 'spam', 'email']\n",
    "spam_messages = spam_messages[spam_messages.str.strip().astype(bool)]\n",
    "\n",
    "if len(spam_messages) > 0:\n",
    "    spam_wordcloud = WordCloud(width=800, height=400).generate(' '.join(spam_messages))\n",
    "    plt.figure(figsize=(10, 5))\n",
    "    plt.imshow(spam_wordcloud, interpolation='bilinear')\n",
    "    plt.axis('off')\n",
    "    plt.title('Word Cloud - Spam Messages')\n",
    "    plt.show()\n",
    "else:\n",
    "    print(\"No spam messages available for word cloud generation.\")\n"
   ]
  },
  {
   "cell_type": "code",
   "execution_count": null,
   "metadata": {
    "colab": {
     "base_uri": "https://localhost:8080/",
     "height": 410
    },
    "id": "h1bOWVAjIzzb",
    "outputId": "1a282af5-afbf-4336-9e2d-237c3d4d318b"
   },
   "outputs": [],
   "source": [
    "# Here is the Bar Plot and we have only two columns\n",
    "label_counts = combined_df['label'].value_counts()\n",
    "plt.figure(figsize=(8, 4))\n",
    "sns.barplot(x=label_counts.index, y=label_counts.values)\n",
    "plt.title('Distribution of Spam and Non-Spam Messages')\n",
    "plt.xlabel('Label')\n",
    "plt.ylabel('Count')\n",
    "plt.show()\n"
   ]
  },
  {
   "cell_type": "code",
   "execution_count": null,
   "metadata": {
    "id": "N2lxPOrXIz1j"
   },
   "outputs": [],
   "source": []
  },
  {
   "cell_type": "code",
   "execution_count": null,
   "metadata": {
    "colab": {
     "base_uri": "https://localhost:8080/"
    },
    "id": "GMraqtOMIz4F",
    "outputId": "44cdbdde-776c-4485-973f-5e3ff2065b11"
   },
   "outputs": [],
   "source": [
    "from sklearn.metrics import classification_report\n",
    "from imblearn.over_sampling import RandomOverSampler\n",
    "from imblearn.under_sampling import RandomUnderSampler\n",
    "\n",
    "# Step 4: Model Evaluation\n",
    "knn_predictions = knn_model.predict(X_test_tfidf)\n",
    "rf_predictions = rf_model.predict(X_test_tfidf)\n",
    "\n",
    "knn_accuracy = accuracy_score(y_test, knn_predictions)\n",
    "rf_accuracy = accuracy_score(y_test, rf_predictions)\n",
    "\n",
    "print(\"KNN Accuracy:\", knn_accuracy)\n",
    "print(\"Random Forest Accuracy:\", rf_accuracy)\n",
    "\n"
   ]
  },
  {
   "cell_type": "code",
   "execution_count": null,
   "metadata": {
    "colab": {
     "base_uri": "https://localhost:8080/",
     "height": 144
    },
    "id": "Dm-WsWrlIz7Y",
    "outputId": "edce2cde-e6a4-4e66-db51-89c21c834174"
   },
   "outputs": [],
   "source": [
    "# Here we're doing Model Improvement and checking for class imbalance\n",
    "label_counts = y_train.value_counts()\n",
    "print(\"Class Distribution:\")\n",
    "print(label_counts)\n",
    "\n",
    "# Check for data quality and Review the dataset and labels for any inconsistencies or errors\n",
    "\n",
    "# Here we're performing data balancing if necessary\n",
    "ros = RandomOverSampler(random_state=42)\n",
    "rus = RandomUnderSampler(random_state=42)\n",
    "\n",
    "X_train_balanced, y_train_balanced = ros.fit_resample(X_train_tfidf, y_train)  # Random Oversampling\n",
    "\n",
    "#Here we're retraining the models with balanced data\n",
    "knn_model_balanced = KNeighborsClassifier(n_neighbors=5)\n",
    "knn_model_balanced.fit(X_train_balanced, y_train_balanced)\n",
    "\n",
    "rf_model_balanced = RandomForestClassifier(n_estimators=100, max_depth=10)\n",
    "rf_model_balanced.fit(X_train_balanced, y_train_balanced)\n",
    "\n"
   ]
  },
  {
   "cell_type": "code",
   "execution_count": null,
   "metadata": {
    "id": "5vEEHyuh_Nnr"
   },
   "outputs": [],
   "source": [
    "# Here we're Re-evaluating the models on balanced data\n",
    "knn_predictions_balanced = knn_model_balanced.predict(X_test_tfidf)\n",
    "rf_predictions_balanced = rf_model_balanced.predict(X_test_tfidf)\n",
    "\n",
    "knn_accuracy_balanced = accuracy_score(y_test, knn_predictions_balanced)\n",
    "rf_accuracy_balanced = accuracy_score(y_test, rf_predictions_balanced)\n",
    "\n",
    "knn_precision_balanced, knn_recall_balanced, knn_f1_balanced, _ = classification_report(\n",
    "    y_test, knn_predictions_balanced, target_names=[\"non-spam\", \"spam\"], output_dict=True\n",
    ")[\"spam\"].values()\n",
    "\n",
    "rf_precision_balanced, rf_recall_balanced, rf_f1_balanced, _ = classification_report(\n",
    "    y_test, rf_predictions_balanced, target_names=[\"non-spam\", \"spam\"], output_dict=True\n",
    ")[\"spam\"].values()\n",
    "\n"
   ]
  },
  {
   "cell_type": "code",
   "execution_count": null,
   "metadata": {
    "colab": {
     "base_uri": "https://localhost:8080/"
    },
    "id": "_sdPhDtq_NrE",
    "outputId": "41df87b1-a9a1-47e7-f692-1290298826a4"
   },
   "outputs": [],
   "source": [
    "print(\"KNN Accuracy (Balanced):\", knn_accuracy_balanced)\n",
    "print(\"Random Forest Accuracy (Balanced):\", rf_accuracy_balanced)\n",
    "print(\"KNN Precision (Balanced):\", knn_precision_balanced)\n",
    "print(\"Random Forest Precision (Balanced):\", rf_precision_balanced)\n",
    "print(\"KNN Recall (Balanced):\", knn_recall_balanced)\n",
    "print(\"Random Forest Recall (Balanced):\", rf_recall_balanced)\n",
    "print(\"KNN F1-score (Balanced):\", knn_f1_balanced)\n",
    "print(\"Random Forest F1-score (Balanced):\", rf_f1_balanced)\n"
   ]
  },
  {
   "cell_type": "code",
   "execution_count": null,
   "metadata": {
    "id": "0fXL7-Sq_NxD"
   },
   "outputs": [],
   "source": []
  },
  {
   "cell_type": "code",
   "execution_count": null,
   "metadata": {
    "id": "NIKrJs-w_N0j"
   },
   "outputs": [],
   "source": [
    "import numpy as np\n",
    "from sklearn.metrics import roc_curve, precision_recall_curve, auc\n"
   ]
  },
  {
   "cell_type": "code",
   "execution_count": null,
   "metadata": {
    "colab": {
     "base_uri": "https://localhost:8080/",
     "height": 564
    },
    "id": "-7gzir_J9-pm",
    "outputId": "a4ed9e94-18bc-40bb-dc57-2f769891b2c9"
   },
   "outputs": [],
   "source": [
    "# Compute ROC curve and ROC area for KNN\n",
    "knn_probs = knn_model.predict_proba(X_test_tfidf)\n",
    "knn_probs = knn_probs[:, 1]  # Keep probabilities of the positive class only\n",
    "knn_fpr, knn_tpr, _ = roc_curve(y_test, knn_probs)\n",
    "knn_roc_auc = auc(knn_fpr, knn_tpr)\n",
    "\n",
    "# Compute ROC curve and ROC area for Random Forest\n",
    "rf_probs = rf_model.predict_proba(X_test_tfidf)\n",
    "rf_probs = rf_probs[:, 1]  # Keep probabilities of the positive class only\n",
    "rf_fpr, rf_tpr, _ = roc_curve(y_test, rf_probs)\n",
    "rf_roc_auc = auc(rf_fpr, rf_tpr)\n",
    "\n",
    "# Plot ROC curve\n",
    "plt.figure(figsize=(8, 6))\n",
    "plt.plot(knn_fpr, knn_tpr, label='KNN (AUC = %0.2f)' % knn_roc_auc)\n",
    "plt.plot(rf_fpr, rf_tpr, label='Random Forest (AUC = %0.2f)' % rf_roc_auc)\n",
    "plt.plot([0, 1], [0, 1], 'k--')  # Random guessing line\n",
    "plt.xlim([0.0, 1.0])\n",
    "plt.ylim([0.0, 1.05])\n",
    "plt.xlabel('False Positive Rate')\n",
    "plt.ylabel('True Positive Rate')\n",
    "plt.title('Receiver Operating Characteristic (ROC) Curve')\n",
    "plt.legend(loc='lower right')\n",
    "plt.show()\n"
   ]
  },
  {
   "cell_type": "code",
   "execution_count": null,
   "metadata": {
    "colab": {
     "base_uri": "https://localhost:8080/",
     "height": 564
    },
    "id": "cxVmfjlt9-s6",
    "outputId": "9414c81c-c91d-4e8d-d6d4-a5707db7ff4c"
   },
   "outputs": [],
   "source": [
    "# Compute Precision-Recall curve and area for KNN\n",
    "knn_precision, knn_recall, _ = precision_recall_curve(y_test, knn_probs)\n",
    "knn_pr_auc = auc(knn_recall, knn_precision)\n",
    "\n",
    "# Compute Precision-Recall curve and area for Random Forest\n",
    "rf_precision, rf_recall, _ = precision_recall_curve(y_test, rf_probs)\n",
    "rf_pr_auc = auc(rf_recall, rf_precision)\n",
    "\n",
    "# Plot Precision-Recall curve\n",
    "plt.figure(figsize=(8, 6))\n",
    "plt.plot(knn_recall, knn_precision, label='KNN (AUC = %0.2f)' % knn_pr_auc)\n",
    "plt.plot(rf_recall, rf_precision, label='Random Forest (AUC = %0.2f)' % rf_pr_auc)\n",
    "plt.xlim([0.0, 1.0])\n",
    "plt.ylim([0.0, 1.05])\n",
    "plt.xlabel('Recall')\n",
    "plt.ylabel('Precision')\n",
    "plt.title('Precision-Recall Curve')\n",
    "plt.legend(loc='lower right')\n",
    "plt.show()\n"
   ]
  },
  {
   "cell_type": "code",
   "execution_count": null,
   "metadata": {
    "id": "J1IdUi9O9-0s"
   },
   "outputs": [],
   "source": []
  },
  {
   "cell_type": "code",
   "execution_count": null,
   "metadata": {},
   "outputs": [],
   "source": []
  },
  {
   "cell_type": "code",
   "execution_count": null,
   "metadata": {},
   "outputs": [],
   "source": []
  }
 ],
 "metadata": {
  "colab": {
   "provenance": []
  },
  "kernelspec": {
   "display_name": "Python 3 (ipykernel)",
   "language": "python",
   "name": "python3"
  },
  "language_info": {
   "codemirror_mode": {
    "name": "ipython",
    "version": 3
   },
   "file_extension": ".py",
   "mimetype": "text/x-python",
   "name": "python",
   "nbconvert_exporter": "python",
   "pygments_lexer": "ipython3",
   "version": "3.10.2"
  }
 },
 "nbformat": 4,
 "nbformat_minor": 4
}
